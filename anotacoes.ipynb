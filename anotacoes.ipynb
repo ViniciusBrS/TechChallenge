{
 "cells": [
  {
   "cell_type": "markdown",
   "metadata": {},
   "source": [
    "# TechChallenge\n",
    "\n",
    "## Setup inicial\n",
    "\n",
    "### Criar env\n",
    "\n",
    "```shell\n",
    "python -m venv [env_curso]\n",
    "```\n",
    "\n",
    "### Ativar a env\n",
    "```shell\n",
    ".\\[env_curso]\\Scripts/activate\n",
    "```\n",
    "- Em caso de erro, comando do powershell para habilitar o activate (rodar powershell como adm) \n",
    "- Set-ExecutionPolicy Unrestricted -Force \n",
    "\n",
    "### Instalar libs\n",
    "\n",
    "```shell\n",
    "python -m pip install -r requirements.txt\n",
    "```\n",
    "\n",
    "### Rodar o app\n",
    "```shell\n",
    "streamlit run Dash.py\n",
    "```"
   ]
  },
  {
   "cell_type": "markdown",
   "metadata": {},
   "source": []
  }
 ],
 "metadata": {
  "language_info": {
   "name": "python"
  }
 },
 "nbformat": 4,
 "nbformat_minor": 2
}
