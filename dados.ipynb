{
 "cells": [
  {
   "cell_type": "code",
   "execution_count": 2,
   "metadata": {},
   "outputs": [],
   "source": [
    "import streamlit as st\n",
    "from google.oauth2 import service_account\n",
    "from google.cloud import bigquery\n",
    "import pandas as pd\n",
    "import pandas_gbq as pdb\n",
    "import tqdm\n",
    "\n",
    "# Create API client.\n",
    "credentials = service_account.Credentials.from_service_account_info(\n",
    "    st.secrets[\"gcp_service_account\"]\n",
    ")\n",
    "client = bigquery.Client(credentials=credentials)\n"
   ]
  },
  {
   "cell_type": "code",
   "execution_count": null,
   "metadata": {},
   "outputs": [],
   "source": [
    "# ### Download das bases\n",
    "# #Dicionario\n",
    "# df_dicionario = pdb.read_gbq(\"select * from basedosdados.br_ibge_pnad_covid.dicionario\", project_id=\"postech-414800\", credentials=credentials)\n",
    "# df_dicionario.to_csv('.\\\\bases\\\\dicionario.csv',sep=\";\", header=True)\n",
    "\n",
    "# #microdados\n",
    "# df_ano_mes = pdb.read_gbq(\"select ano, mes, count(*) as cnt from basedosdados.br_ibge_pnad_covid.microdados group by ano, mes\", project_id=\"postech-414800\", credentials=credentials)\n",
    "# df_ano_mes.sort_values(by=['mes'], inplace=True)\n",
    "\n",
    "# lst_df = []\n",
    "# for k,i in df_ano_mes.iterrows():\n",
    "#     print(f\"{i['ano']} - {i['mes']}\")\n",
    "#     df_tmp = pdb.read_gbq(f\"select * from basedosdados.br_ibge_pnad_covid.microdados where ano = {i['ano']} and mes = {i['mes']}\", project_id=\"postech-414800\", credentials=credentials)\n",
    "#     lst_df.append(df_tmp)\n",
    "\n",
    "# df_concat = pd.concat(lst_df)\n",
    "# df_concat.to_csv('.\\\\bases\\\\microdados.csv',sep=\";\", header=True)"
   ]
  },
  {
   "cell_type": "code",
   "execution_count": 3,
   "metadata": {},
   "outputs": [],
   "source": [
    "df_dic = pd.read_csv(r'.\\bases\\dicionario.csv', sep=\";\")\n",
    "df_m = pd.read_csv(r'.\\bases\\microdados.csv', sep=\";\")"
   ]
  },
  {
   "cell_type": "code",
   "execution_count": 1,
   "metadata": {},
   "outputs": [
    {
     "ename": "NameError",
     "evalue": "name 'df_dic' is not defined",
     "output_type": "error",
     "traceback": [
      "\u001b[1;31m---------------------------------------------------------------------------\u001b[0m",
      "\u001b[1;31mNameError\u001b[0m                                 Traceback (most recent call last)",
      "Cell \u001b[1;32mIn[1], line 1\u001b[0m\n\u001b[1;32m----> 1\u001b[0m \u001b[43mdf_dic\u001b[49m\n",
      "\u001b[1;31mNameError\u001b[0m: name 'df_dic' is not defined"
     ]
    }
   ],
   "source": [
    "df_dic\n"
   ]
  },
  {
   "cell_type": "code",
   "execution_count": null,
   "metadata": {},
   "outputs": [],
   "source": []
  }
 ],
 "metadata": {
  "kernelspec": {
   "display_name": "env_app",
   "language": "python",
   "name": "python3"
  },
  "language_info": {
   "codemirror_mode": {
    "name": "ipython",
    "version": 3
   },
   "file_extension": ".py",
   "mimetype": "text/x-python",
   "name": "python",
   "nbconvert_exporter": "python",
   "pygments_lexer": "ipython3",
   "version": "3.12.0"
  }
 },
 "nbformat": 4,
 "nbformat_minor": 2
}
