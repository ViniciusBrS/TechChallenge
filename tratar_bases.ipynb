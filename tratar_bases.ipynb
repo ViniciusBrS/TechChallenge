{
 "cells": [
  {
   "cell_type": "markdown",
   "metadata": {},
   "source": [
    "#### Importação das libs"
   ]
  },
  {
   "cell_type": "code",
   "execution_count": 1,
   "metadata": {},
   "outputs": [],
   "source": [
    "import streamlit as st\n",
    "from google.oauth2 import service_account\n",
    "from google.cloud import bigquery\n",
    "import pandas as pd\n",
    "import pandas_gbq as pdb\n",
    "import tqdm\n",
    "import numpy as np\n"
   ]
  },
  {
   "cell_type": "markdown",
   "metadata": {},
   "source": [
    "#### Fazer o download das bases - dicionario e microdados"
   ]
  },
  {
   "cell_type": "code",
   "execution_count": null,
   "metadata": {},
   "outputs": [],
   "source": [
    "# Buscar credenciais do Big Query\n",
    "credentials = service_account.Credentials.from_service_account_info(\n",
    "    st.secrets[\"gcp_service_account\"]\n",
    ")\n",
    "client = bigquery.Client(credentials=credentials)\n",
    "\n",
    "### Download das bases\n",
    "#Dicionario\n",
    "df_dicionario = pdb.read_gbq(\"select * from basedosdados.br_ibge_pnad_covid.dicionario\", project_id=\"postech-414800\", credentials=credentials)\n",
    "df_dicionario.to_csv('.\\\\bases\\\\dicionario.csv',sep=\";\", header=True)\n",
    "\n",
    "#microdados\n",
    "df_ano_mes = pdb.read_gbq(\"select ano, mes, count(*) as cnt from basedosdados.br_ibge_pnad_covid.microdados group by ano, mes\", project_id=\"postech-414800\", credentials=credentials)\n",
    "df_ano_mes.sort_values(by=['mes'], inplace=True)\n",
    "\n",
    "lst_df = []\n",
    "for k,i in df_ano_mes.iterrows():\n",
    "    print(f\"{i['ano']} - {i['mes']}\")\n",
    "    df_tmp = pdb.read_gbq(f\"select * from basedosdados.br_ibge_pnad_covid.microdados where ano = {i['ano']} and mes = {i['mes']}\", project_id=\"postech-414800\", credentials=credentials)\n",
    "    lst_df.append(df_tmp)\n",
    "\n",
    "df_concat = pd.concat(lst_df)\n",
    "df_concat.to_csv('.\\\\bases\\\\microdados.csv',sep=\";\", header=True)"
   ]
  },
  {
   "cell_type": "markdown",
   "metadata": {},
   "source": [
    "#### Atribuir o valor corresponde no dicionário aos campos da base de microdados"
   ]
  },
  {
   "cell_type": "code",
   "execution_count": null,
   "metadata": {},
   "outputs": [],
   "source": [
    "#ler bases e processar o dicionario\n",
    "df_dic = pd.read_csv(r'.\\bases\\dicionario.csv', sep=\";\")\n",
    "df_m = pd.read_csv(r'.\\bases\\microdados.csv', sep=\";\")\n",
    "\n",
    "df_m.drop(columns=['Unnamed: 0'], inplace=True)\n",
    "\n",
    "#fazer loop pelos campos\n",
    "#atribuir o 'valor' ao nome do campo - ex df['capital'] = df['valor']\n",
    "df_m_trat = df_m\n",
    "for c in df_dic['nome_coluna'].unique():\n",
    "    print(f\"Campo processado: {c}\")\n",
    "    df_d = df_dic.query(f\"nome_coluna == '{c}'\")[['chave','valor']]\n",
    "    df_m_trat = df_m_trat.merge(df_d, how='left', left_on=c, right_on='chave')\n",
    "    df_m_trat[c] = df_m_trat['valor']\n",
    "    df_m_trat.drop(columns=['chave','valor'], inplace=True)\n"
   ]
  },
  {
   "cell_type": "markdown",
   "metadata": {},
   "source": [
    "#### Enriquecimento da base\n",
    "\n",
    "- Com base na UF, incluir nome do estado\n",
    "- Com base no nome do estado, incluir a região \n",
    "- Com base na idade, aplicar uma faixa etária\n",
    "- Classificar a escolaridade (campo a005)\n",
    "- Agrupar as questões sobre os sintomas (b0011 até b00113) em um único campo"
   ]
  },
  {
   "cell_type": "code",
   "execution_count": 23,
   "metadata": {},
   "outputs": [],
   "source": [
    "estados = {\n",
    "    \"AC\": \"Acre\",\n",
    "    \"AL\": \"Alagoas\",\n",
    "    \"AP\": \"Amapá\",\n",
    "    \"AM\": \"Amazonas\",\n",
    "    \"BA\": \"Bahia\",\n",
    "    \"CE\": \"Ceará\",\n",
    "    \"DF\": \"Distrito Federal\",\n",
    "    \"ES\": \"Espírito Santo\",\n",
    "    \"GO\": \"Goiás\",\n",
    "    \"MA\": \"Maranhão\",\n",
    "    \"MT\": \"Mato Grosso\",\n",
    "    \"MS\": \"Mato Grosso do Sul\",\n",
    "    \"MG\": \"Minas Gerais\",\n",
    "    \"PA\": \"Pará\",\n",
    "    \"PB\": \"Paraíba\",\n",
    "    \"PR\": \"Paraná\",\n",
    "    \"PE\": \"Pernambuco\",\n",
    "    \"PI\": \"Piauí\",\n",
    "    \"RJ\": \"Rio de Janeiro\",\n",
    "    \"RN\": \"Rio Grande do Norte\",\n",
    "    \"RS\": \"Rio Grande do Sul\",\n",
    "    \"RO\": \"Rondônia\",\n",
    "    \"RR\": \"Roraima\",\n",
    "    \"SC\": \"Santa Catarina\",\n",
    "    \"SP\": \"São Paulo\",\n",
    "    \"SE\": \"Sergipe\",\n",
    "    \"TO\": \"Tocantins\"\n",
    "}\n",
    "\n",
    "regioes = {\n",
    "    \"Acre\": \"Norte\",\n",
    "    \"Alagoas\": \"Nordeste\",\n",
    "    \"Amapá\": \"Norte\",\n",
    "    \"Amazonas\": \"Norte\",\n",
    "    \"Bahia\": \"Nordeste\",\n",
    "    \"Ceará\": \"Nordeste\",\n",
    "    \"Distrito Federal\": \"Centro-Oeste\",\n",
    "    \"Espírito Santo\": \"Sudeste\",\n",
    "    \"Goiás\": \"Centro-Oeste\",\n",
    "    \"Maranhão\": \"Nordeste\",\n",
    "    \"Mato Grosso\": \"Centro-Oeste\",\n",
    "    \"Mato Grosso do Sul\": \"Centro-Oeste\",\n",
    "    \"Minas Gerais\": \"Sudeste\",\n",
    "    \"Pará\": \"Norte\",\n",
    "    \"Paraíba\": \"Nordeste\",\n",
    "    \"Paraná\": \"Sul\",\n",
    "    \"Pernambuco\": \"Nordeste\",\n",
    "    \"Piauí\": \"Nordeste\",\n",
    "    \"Rio de Janeiro\": \"Sudeste\",\n",
    "    \"Rio Grande do Norte\": \"Nordeste\",\n",
    "    \"Rio Grande do Sul\": \"Sul\",\n",
    "    \"Rondônia\": \"Norte\",\n",
    "    \"Roraima\": \"Norte\",\n",
    "    \"Santa Catarina\": \"Sul\",\n",
    "    \"São Paulo\": \"Sudeste\",\n",
    "    \"Sergipe\": \"Nordeste\",\n",
    "    \"Tocantins\": \"Norte\"\n",
    "}\n",
    "\n",
    "# Crie um dicionário com os limites de idade para cada faixa etária\n",
    "faixas_etarias = {\n",
    "    \"0 a 12 anos\": (0, 12),\n",
    "    \"13 a 18 anos\": (13, 18),\n",
    "    \"19 a 24 anos\": (19, 24),\n",
    "    \"25 a 34 anos\": (25, 34),\n",
    "    \"35 a 44 anos\": (35, 44),\n",
    "    \"45 a 54 anos\": (45, 54),\n",
    "    \"55 a 64 anos\": (55, 64),\n",
    "    \"65 anos ou mais\": (65, 200)\n",
    "}\n",
    "\n",
    "# Crie uma nova coluna com a sugestão de faixa etária\n",
    "def faixa_etaria(idade):\n",
    "    for faixa, limites in faixas_etarias.items():\n",
    "        if limites[0] <= idade <= limites[1]:\n",
    "            return faixa\n",
    "    return None\n",
    "\n",
    "escolaridade = {'Fundamental incompleto':2, 'Médio completo':5, 'Médio incompleto':4,\n",
    "       'Pós-graduação, mestrado ou doutorado':8, 'Sem instrução':1,\n",
    "       'Fundamental completa':3, 'Superior incompleto':6, 'Superior completo':7}\n",
    "\n",
    "df_m_trat[\"faixa_etaria\"] = df_m_trat[\"a002\"].apply(faixa_etaria)\n",
    "df_m_trat[\"estado\"] = df_m_trat[\"sigla_uf\"].map(estados)\n",
    "df_m_trat[\"regiao\"] = df_m_trat[\"estado\"].map(regioes)\n",
    "df_m_trat[\"escolaridade\"] = df_m_trat[\"a005\"].map(escolaridade)\n",
    "df_m_trat['sintomas'] = np.any([df_m_trat['b0011'] == 'Sim',df_m_trat['b0012'] == 'Sim',df_m_trat['b0013'] == 'Sim',df_m_trat['b0014'] == 'Sim',df_m_trat['b0015'] == 'Sim',\n",
    "                               df_m_trat['b0016'] == 'Sim',df_m_trat['b0017'] == 'Sim',df_m_trat['b0018'] == 'Sim',df_m_trat['b0019'] == 'Sim',df_m_trat['b00110'] == 'Sim',\n",
    "                               df_m_trat['b00111'] == 'Sim',df_m_trat['b00112'] == 'Sim',df_m_trat['b00113'] == 'Sim'], axis=0)"
   ]
  },
  {
   "cell_type": "markdown",
   "metadata": {},
   "source": [
    "#### Exportar como parquet\n",
    "\n",
    "- Facilita a importação no Big Query\n"
   ]
  },
  {
   "cell_type": "code",
   "execution_count": 19,
   "metadata": {},
   "outputs": [],
   "source": [
    "df_m_trat.to_parquet(r'.\\bases\\microdados.parquet', index=False)"
   ]
  }
 ],
 "metadata": {
  "kernelspec": {
   "display_name": "env_app",
   "language": "python",
   "name": "python3"
  },
  "language_info": {
   "codemirror_mode": {
    "name": "ipython",
    "version": 3
   },
   "file_extension": ".py",
   "mimetype": "text/x-python",
   "name": "python",
   "nbconvert_exporter": "python",
   "pygments_lexer": "ipython3",
   "version": "3.12.0"
  }
 },
 "nbformat": 4,
 "nbformat_minor": 2
}
